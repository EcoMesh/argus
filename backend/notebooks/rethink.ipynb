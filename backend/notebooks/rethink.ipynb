{
 "cells": [
  {
   "cell_type": "code",
   "execution_count": 1,
   "metadata": {},
   "outputs": [],
   "source": [
    "import sys\n",
    "sys.path.append('..')\n",
    "\n",
    "from app.database import _get_database_async\n",
    "from rethinkdb import query as r"
   ]
  },
  {
   "cell_type": "code",
   "execution_count": null,
   "metadata": {},
   "outputs": [],
   "source": []
  },
  {
   "cell_type": "code",
   "execution_count": 44,
   "metadata": {},
   "outputs": [
    {
     "name": "stdout",
     "output_type": "stream",
     "text": [
      "[{'coordinates': None, 'id': '4df86a94-dac5-499e-95b1-9ee7b8f65963', 'node_id': '!833c2233', 'region_id': '57b2b4c2-6d5a-4c4e-8d3b-5b4f4f4b4d54', 'uplink': False, 'watershed': None}]\n"
     ]
    }
   ],
   "source": [
    "async def example_for_loop_async():\n",
    "    async with await _get_database_async() as conn:\n",
    "        sensor_table = r.table('sensors')\n",
    "        async for sensor in await sensor_table.run(conn):\n",
    "            print(sensor)\n",
    "\n",
    "\n",
    "async def example_as_list_async():\n",
    "    async with await _get_database_async() as conn:\n",
    "        sensor_table = r.table('sensors')\n",
    "        sensors = list((await sensor_table.run(conn)).items)\n",
    "        print(sensors)"
   ]
  },
  {
   "cell_type": "code",
   "execution_count": 2,
   "metadata": {},
   "outputs": [],
   "source": [
    "# playground to test the async database and write rethinkdb queries\n",
    "async def main():\n",
    "    async with await _get_database_async() as conn:\n",
    "        # match await r.table(\"sensors\").get('4df86a94-dac5-499e-95b1-9ee7b8f65963').update(\n",
    "        #     {\"coordinates\": r.point(3, 2)},\n",
    "        #     return_changes=True\n",
    "        # ).run(conn):\n",
    "        #     case {'changes': [{'new_val': sensor}]}:\n",
    "        #         print(sensor)\n",
    "        #     case _:\n",
    "        #         print(\"No changes\")\n",
    "\n",
    "        # await r.table(\"sensors\").get('4df86a94-dac5-499e-95b1-9ee7b8f65963').update(\n",
    "        #     {\"coordinates\": None,\n",
    "        #      \"watershed\": None\n",
    "        #      },\n",
    "        # ).run(conn)\n",
    "        await r.table(\"regions\").insert(\n",
    "            {\n",
    "                \"id\": \"57b2b4c2-6d5a-4c4e-8d3b-5b4f4f4b4d54\",\n",
    "                \"name\": \"Courand Family Ranch\",\n",
    "                \"bottom_left\": r.point(\n",
    "                    -103.31498383879455,\n",
    "                    30.275977600526915,\n",
    "                ),\n",
    "                \"top_right\": r.point(-103.1300, 30.487701),\n",
    "            }\n",
    "        ).run(conn)\n",
    "\n",
    "await main()"
   ]
  }
 ],
 "metadata": {
  "kernelspec": {
   "display_name": ".venv",
   "language": "python",
   "name": "python3"
  },
  "language_info": {
   "codemirror_mode": {
    "name": "ipython",
    "version": 3
   },
   "file_extension": ".py",
   "mimetype": "text/x-python",
   "name": "python",
   "nbconvert_exporter": "python",
   "pygments_lexer": "ipython3",
   "version": "3.11.7"
  }
 },
 "nbformat": 4,
 "nbformat_minor": 2
}
