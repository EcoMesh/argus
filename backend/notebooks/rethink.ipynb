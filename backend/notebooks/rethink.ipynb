{
 "cells": [
  {
   "cell_type": "code",
   "execution_count": 34,
   "metadata": {},
   "outputs": [],
   "source": [
    "import sys\n",
    "sys.path.append('..')\n",
    "\n",
    "from app.database import _get_database_async\n",
    "from rethinkdb import query as r"
   ]
  },
  {
   "cell_type": "code",
   "execution_count": null,
   "metadata": {},
   "outputs": [],
   "source": []
  },
  {
   "cell_type": "code",
   "execution_count": 44,
   "metadata": {},
   "outputs": [
    {
     "name": "stdout",
     "output_type": "stream",
     "text": [
      "[{'coordinates': None, 'id': '4df86a94-dac5-499e-95b1-9ee7b8f65963', 'node_id': '!833c2233', 'region_id': '57b2b4c2-6d5a-4c4e-8d3b-5b4f4f4b4d54', 'uplink': False, 'watershed': None}]\n"
     ]
    }
   ],
   "source": [
    "async def example_for_loop_async():\n",
    "    async with await _get_database_async() as conn:\n",
    "        sensor_table = r.table('sensors')\n",
    "        async for sensor in await sensor_table.run(conn):\n",
    "            print(sensor)\n",
    "\n",
    "\n",
    "async def example_as_list_async():\n",
    "    async with await _get_database_async() as conn:\n",
    "        sensor_table = r.table('sensors')\n",
    "        sensors = list((await sensor_table.run(conn)).items)\n",
    "        print(sensors)"
   ]
  },
  {
   "cell_type": "code",
   "execution_count": 37,
   "metadata": {},
   "outputs": [
    {
     "data": {
      "text/plain": [
       "[{'id': '29bbe6ce-0810-4ff2-9cdf-501eb587332c',\n",
       "  'name': 'DGGDG',\n",
       "  'timezone': 'America/Hermosillo'},\n",
       " {'id': '594ef7fd-90dd-412a-95f6-4e09ae3a0108',\n",
       "  'name': 'New Region Testing',\n",
       "  'timezone': 'America/New_York'},\n",
       " {'id': 'f9c113a4-bca2-4968-9ca8-1547937ae1da',\n",
       "  'name': 'Test Region',\n",
       "  'timezone': 'America/New_York'},\n",
       " {'id': '6ead71de-ec79-40a1-ab24-bfe94044f801',\n",
       "  'name': 'Farm 2',\n",
       "  'timezone': 'America/Los_Angeles'},\n",
       " {'id': 'cb4d6f72-b801-48c7-a951-40ba63837f08',\n",
       "  'name': 'Farm',\n",
       "  'timezone': 'America/Denver'},\n",
       " {'id': '00a19791-b0d7-43fe-b222-063394edcd87',\n",
       "  'name': 'New REgion Test',\n",
       "  'timezone': 'America/Chicago'},\n",
       " {'id': '57b2b4c2-6d5a-4c4e-8d3b-5b4f4f4b4d54',\n",
       "  'name': 'Courand Family Ranch',\n",
       "  'timezone': 'America/Chicago'}]"
      ]
     },
     "execution_count": 37,
     "metadata": {},
     "output_type": "execute_result"
    }
   ],
   "source": [
    "from uuid import uuid4\n",
    "# from app.utils.security import encode_jwt\n",
    "# playground to test the async database and write rethinkdb queries\n",
    "from timezonefinder import TimezoneFinder\n",
    "\n",
    "tf = TimezoneFinder()  # reuse\n",
    "\n",
    "async def main():\n",
    "    async with await _get_database_async() as conn:\n",
    "        # match await r.table(\"sensors\").get('4df86a94-dac5-499e-95b1-9ee7b8f65963').update(\n",
    "        #     {\"location\": r.point(3, 2)},\n",
    "        #     return_changes=True\n",
    "        # ).run(conn):\n",
    "        #     case {'changes': [{'new_val': sensor}]}:\n",
    "        #         print(sensor)\n",
    "        #     case _:\n",
    "        #         print(\"No changes\")\n",
    "\n",
    "        # return await r.table(\"alarms\").get('c5b2b4c2-6d5a-4c4e-8d3b-5b4f4f4b4d4d').update(\n",
    "        #     {\n",
    "        #         \"region_id\": \"57b2b4c2-6d5a-4c4e-8d3b-5b4f4f4b4d54\",\n",
    "        #      },\n",
    "        # ).run(conn)\n",
    "        \n",
    "        # await r.table(\"sensors\").get('4df86a94-dac5-499e-95b1-9ee7b8f65963').update(\n",
    "        #     {\"location\": None,\n",
    "        #      \"watershed\": None\n",
    "        #      },\n",
    "        # ).run(conn)\n",
    "        # return (await r.table(\"alarms\").merge(lambda alarm: {\n",
    "        #     \"history\": r.table(\"alarms_events\").get_all(\n",
    "        #         alarm[\"id\"], index=\"alarm_id\"\n",
    "        #     ).merge(lambda event: {\n",
    "        #         \"records\": r.table(\"alarms_event_records\").get_all(event[\"id\"], index=\"alarm_event_id\").coerce_to(\"array\")\n",
    "        #     }).coerce_to(\"array\")\n",
    "        # }).run(conn)).items\n",
    "        # async for region_id in await r.table(\"regions\").get_field(\"id\").run(conn):\n",
    "        #     r.table('sensors').insert({\"id\": region_id, \"channel_psk\": str(uuid4())}, conflict='update').run(conn)\n",
    "        # return await r.table(\"regions\").get_field(\"id\").run(conn)\n",
    "        # r.table(\"sensors\").index_create(\"node_id\").run(conn)\n",
    "        # return await r.table(\"sensors\").run(conn)\n",
    "        # return await r.table('sensors').insert(\n",
    "        #     [{\"id\": sensor[\"id\"], \"initialization_url\": \"http://localhost/init/\" + encode_jwt({\n",
    "        #     'id': sensor['id'],\n",
    "        #     'node_id': sensor['node_id'],\n",
    "        # }) } async for sensor in await r.table(\"sensors\").run(conn)],\n",
    "        #     conflict='update'\n",
    "        # ).run(conn)\n",
    "        # await r.table('sensors').replace(r.row.without('initialization_url')).run(conn)\n",
    "        # return await r.table('region').insert(\n",
    "        #     [{\"id\": region[\"id\"], \"timezone\": tf.timezone_at(\n",
    "        #         lng=(region[\"top_right\"][\"coordinates\"][0] + region[\"bottom_left\"][\"coordinates\"][0]) / 2,\n",
    "        #         lat=(region[\"top_right\"][\"coordinates\"][1] + region[\"bottom_left\"][\"coordinates\"][1]) / 2\n",
    "        #     ) } async for region in await r.table(\"sensors\").run(conn)],\n",
    "        #     conflict='update'\n",
    "        # ).run(conn)\n",
    "        return [{\"id\": region[\"id\"], \"name\": region['name'], \"timezone\": tf.timezone_at(\n",
    "                lng=(region[\"top_right\"][\"coordinates\"][1] + region[\"bottom_left\"][\"coordinates\"][1]) / 2,\n",
    "                lat=(region[\"top_right\"][\"coordinates\"][0] + region[\"bottom_left\"][\"coordinates\"][0]) / 2\n",
    "            ) } async for region in await r.table(\"regions\").run(conn)]\n",
    "    \n",
    "await main()"
   ]
  },
  {
   "cell_type": "code",
   "execution_count": null,
   "metadata": {},
   "outputs": [],
   "source": []
  },
  {
   "cell_type": "code",
   "execution_count": null,
   "metadata": {},
   "outputs": [],
   "source": []
  },
  {
   "cell_type": "code",
   "execution_count": null,
   "metadata": {},
   "outputs": [],
   "source": []
  }
 ],
 "metadata": {
  "kernelspec": {
   "display_name": ".venv",
   "language": "python",
   "name": "python3"
  },
  "language_info": {
   "codemirror_mode": {
    "name": "ipython",
    "version": 3
   },
   "file_extension": ".py",
   "mimetype": "text/x-python",
   "name": "python",
   "nbconvert_exporter": "python",
   "pygments_lexer": "ipython3",
   "version": "3.11.7"
  }
 },
 "nbformat": 4,
 "nbformat_minor": 2
}
