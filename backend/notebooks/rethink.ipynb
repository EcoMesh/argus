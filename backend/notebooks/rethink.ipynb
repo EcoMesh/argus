{
 "cells": [
  {
   "cell_type": "code",
   "execution_count": 2,
   "metadata": {},
   "outputs": [],
   "source": [
    "import sys\n",
    "sys.path.append('..')\n",
    "\n",
    "from app.database import _get_database_async\n",
    "from rethinkdb import query as r"
   ]
  },
  {
   "cell_type": "code",
   "execution_count": null,
   "metadata": {},
   "outputs": [],
   "source": []
  },
  {
   "cell_type": "code",
   "execution_count": 44,
   "metadata": {},
   "outputs": [
    {
     "name": "stdout",
     "output_type": "stream",
     "text": [
      "[{'coordinates': None, 'id': '4df86a94-dac5-499e-95b1-9ee7b8f65963', 'node_id': '!833c2233', 'region_id': '57b2b4c2-6d5a-4c4e-8d3b-5b4f4f4b4d54', 'uplink': False, 'watershed': None}]\n"
     ]
    }
   ],
   "source": [
    "async def example_for_loop_async():\n",
    "    async with await _get_database_async() as conn:\n",
    "        sensor_table = r.table('sensors')\n",
    "        async for sensor in await sensor_table.run(conn):\n",
    "            print(sensor)\n",
    "\n",
    "\n",
    "async def example_as_list_async():\n",
    "    async with await _get_database_async() as conn:\n",
    "        sensor_table = r.table('sensors')\n",
    "        sensors = list((await sensor_table.run(conn)).items)\n",
    "        print(sensors)"
   ]
  },
  {
   "cell_type": "code",
   "execution_count": 22,
   "metadata": {},
   "outputs": [
    {
     "ename": "SyntaxError",
     "evalue": "unterminated string literal (detected at line 37) (1582421117.py, line 37)",
     "output_type": "error",
     "traceback": [
      "\u001b[0;36m  Cell \u001b[0;32mIn[22], line 37\u001b[0;36m\u001b[0m\n\u001b[0;31m    [{\"id\": sensor[\"id\"], \"initialization_url\": f\"http://localhost/init/{encode_jwt({\u001b[0m\n\u001b[0m                                                ^\u001b[0m\n\u001b[0;31mSyntaxError\u001b[0m\u001b[0;31m:\u001b[0m unterminated string literal (detected at line 37)\n"
     ]
    }
   ],
   "source": [
    "from uuid import uuid4\n",
    "from app.security import encode_jwt\n",
    "# playground to test the async database and write rethinkdb queries\n",
    "async def main():\n",
    "    async with await _get_database_async() as conn:\n",
    "        # match await r.table(\"sensors\").get('4df86a94-dac5-499e-95b1-9ee7b8f65963').update(\n",
    "        #     {\"location\": r.point(3, 2)},\n",
    "        #     return_changes=True\n",
    "        # ).run(conn):\n",
    "        #     case {'changes': [{'new_val': sensor}]}:\n",
    "        #         print(sensor)\n",
    "        #     case _:\n",
    "        #         print(\"No changes\")\n",
    "\n",
    "        # return await r.table(\"alarms\").get('c5b2b4c2-6d5a-4c4e-8d3b-5b4f4f4b4d4d').update(\n",
    "        #     {\n",
    "        #         \"region_id\": \"57b2b4c2-6d5a-4c4e-8d3b-5b4f4f4b4d54\",\n",
    "        #      },\n",
    "        # ).run(conn)\n",
    "        \n",
    "        # await r.table(\"sensors\").get('4df86a94-dac5-499e-95b1-9ee7b8f65963').update(\n",
    "        #     {\"location\": None,\n",
    "        #      \"watershed\": None\n",
    "        #      },\n",
    "        # ).run(conn)\n",
    "        # return (await r.table(\"alarms\").merge(lambda alarm: {\n",
    "        #     \"history\": r.table(\"alarms_events\").get_all(\n",
    "        #         alarm[\"id\"], index=\"alarm_id\"\n",
    "        #     ).merge(lambda event: {\n",
    "        #         \"records\": r.table(\"alarms_event_records\").get_all(event[\"id\"], index=\"alarm_event_id\").coerce_to(\"array\")\n",
    "        #     }).coerce_to(\"array\")\n",
    "        # }).run(conn)).items\n",
    "        # async for region_id in await r.table(\"regions\").get_field(\"id\").run(conn):\n",
    "        #     r.table('sensors').insert({\"id\": region_id, \"channel_psk\": str(uuid4())}, conflict='update').run(conn)\n",
    "        # return await r.table(\"regions\").get_field(\"id\").run(conn)\n",
    "        return await r.table('sensors').insert(\n",
    "            [{\"id\": sensor[\"id\"], \"initialization_url\": \"http://localhost/init/\" + encode_jwt({\n",
    "            'id': sensor['id'],\n",
    "            'node_id': sensor['node_id'],\n",
    "        }) } async for sensor in await r.table(\"sensors\").run(conn)],\n",
    "            conflict='update'\n",
    "        ).run(conn)\n",
    "        # await r.table('sensors').replace(r.row.without('channel_psk')).run(conn)\n",
    "    \n",
    "await main()"
   ]
  },
  {
   "cell_type": "code",
   "execution_count": null,
   "metadata": {},
   "outputs": [],
   "source": []
  }
 ],
 "metadata": {
  "kernelspec": {
   "display_name": ".venv",
   "language": "python",
   "name": "python3"
  },
  "language_info": {
   "codemirror_mode": {
    "name": "ipython",
    "version": 3
   },
   "file_extension": ".py",
   "mimetype": "text/x-python",
   "name": "python",
   "nbconvert_exporter": "python",
   "pygments_lexer": "ipython3",
   "version": "3.11.7"
  }
 },
 "nbformat": 4,
 "nbformat_minor": 2
}
